{
  "nbformat": 4,
  "nbformat_minor": 0,
  "metadata": {
    "colab": {
      "provenance": [],
      "authorship_tag": "ABX9TyMzQocoKHEGgfOVRpZ9zgE4"
    },
    "kernelspec": {
      "name": "python3",
      "display_name": "Python 3"
    },
    "language_info": {
      "name": "python"
    }
  },
  "cells": [
    {
      "cell_type": "markdown",
      "source": [
        "# Pandas Basics"
      ],
      "metadata": {
        "id": "JGkrW2gBxNKc"
      }
    },
    {
      "cell_type": "markdown",
      "source": [
        "##Introduction to Pandas"
      ],
      "metadata": {
        "id": "wHwqxe9qXxvR"
      }
    },
    {
      "cell_type": "code",
      "execution_count": 1,
      "metadata": {
        "id": "P6YfXvj9XwdI"
      },
      "outputs": [],
      "source": [
        "import pandas as pd"
      ]
    },
    {
      "cell_type": "code",
      "source": [
        "print(pd.__version__)"
      ],
      "metadata": {
        "colab": {
          "base_uri": "https://localhost:8080/"
        },
        "id": "wxnGV7w7w7yt",
        "outputId": "4620b3b9-4043-4cb4-b2f3-fd963f5eff16"
      },
      "execution_count": 2,
      "outputs": [
        {
          "output_type": "stream",
          "name": "stdout",
          "text": [
            "2.1.4\n"
          ]
        }
      ]
    },
    {
      "cell_type": "markdown",
      "source": [
        "## Pandas Series"
      ],
      "metadata": {
        "id": "3ksIgq5wxRw-"
      }
    },
    {
      "cell_type": "code",
      "source": [
        "a = [1, 7, 2]\n",
        "myvar = pd.Series(a)\n",
        "\n",
        "print(myvar)"
      ],
      "metadata": {
        "colab": {
          "base_uri": "https://localhost:8080/"
        },
        "id": "2ZN6_vksxaa7",
        "outputId": "f805edf8-fdee-4c7c-b736-3b7d3d625a49"
      },
      "execution_count": 3,
      "outputs": [
        {
          "output_type": "stream",
          "name": "stdout",
          "text": [
            "0    1\n",
            "1    7\n",
            "2    2\n",
            "dtype: int64\n"
          ]
        }
      ]
    },
    {
      "cell_type": "code",
      "source": [
        "#adding labels\n",
        "myvar = pd.Series(a, index = [\"x\", \"y\", \"z\"])\n",
        "\n",
        "print(myvar)"
      ],
      "metadata": {
        "colab": {
          "base_uri": "https://localhost:8080/"
        },
        "id": "xx3iOwFnxqfO",
        "outputId": "8b49d82c-0586-421f-d725-74d5a7aa3206"
      },
      "execution_count": 4,
      "outputs": [
        {
          "output_type": "stream",
          "name": "stdout",
          "text": [
            "x    1\n",
            "y    7\n",
            "z    2\n",
            "dtype: int64\n"
          ]
        }
      ]
    },
    {
      "cell_type": "code",
      "source": [
        "print(myvar[\"y\"])"
      ],
      "metadata": {
        "colab": {
          "base_uri": "https://localhost:8080/"
        },
        "id": "jh877ahzxvfz",
        "outputId": "cef280df-a20c-4d24-8939-5db83fdde435"
      },
      "execution_count": 5,
      "outputs": [
        {
          "output_type": "stream",
          "name": "stdout",
          "text": [
            "7\n"
          ]
        }
      ]
    },
    {
      "cell_type": "code",
      "source": [
        "##key/value objects as a series\n",
        "temp = {\"day1\": 420, \"day2\": 380, \"day3\": 390}\n",
        "myvar = pd.Series(temp)\n",
        "\n",
        "print(myvar)"
      ],
      "metadata": {
        "colab": {
          "base_uri": "https://localhost:8080/"
        },
        "id": "chZYUAlzx4JC",
        "outputId": "44bc2751-b9c9-4c0d-c897-4ee01d4857ac"
      },
      "execution_count": 6,
      "outputs": [
        {
          "output_type": "stream",
          "name": "stdout",
          "text": [
            "day1    420\n",
            "day2    380\n",
            "day3    390\n",
            "dtype: int64\n"
          ]
        }
      ]
    },
    {
      "cell_type": "code",
      "source": [
        "#to selct specific items\n",
        "temp = {\"day1\": 49, \"day2\": 38, \"day3\": 26}\n",
        "myvar = pd.Series(temp, index = [\"day1\", \"day2\"])\n",
        "\n",
        "print(myvar)"
      ],
      "metadata": {
        "colab": {
          "base_uri": "https://localhost:8080/"
        },
        "id": "LscY3ZzMyL72",
        "outputId": "ecb07de3-9087-431d-aaa4-e7e77642a4b3"
      },
      "execution_count": 7,
      "outputs": [
        {
          "output_type": "stream",
          "name": "stdout",
          "text": [
            "day1    49\n",
            "day2    38\n",
            "dtype: int64\n"
          ]
        }
      ]
    },
    {
      "cell_type": "markdown",
      "source": [
        "## DataFrames"
      ],
      "metadata": {
        "id": "8rBPiuulywtM"
      }
    },
    {
      "cell_type": "code",
      "source": [
        "data = {\n",
        "  \"calories\": [420, 380, 390],\n",
        "  \"duration\": [50, 40, 45]\n",
        "}\n",
        "\n",
        "df = pd.DataFrame(data)\n",
        "print(df)"
      ],
      "metadata": {
        "colab": {
          "base_uri": "https://localhost:8080/"
        },
        "id": "RoE0cJEpyzL9",
        "outputId": "178cfd10-8e6d-44e8-fcce-b935ddc029c4"
      },
      "execution_count": 8,
      "outputs": [
        {
          "output_type": "stream",
          "name": "stdout",
          "text": [
            "   calories  duration\n",
            "0       420        50\n",
            "1       380        40\n",
            "2       390        45\n"
          ]
        }
      ]
    },
    {
      "cell_type": "code",
      "source": [
        "# Locating a row\n",
        "print(df.loc[::2])"
      ],
      "metadata": {
        "colab": {
          "base_uri": "https://localhost:8080/"
        },
        "id": "Kh1uUoPszE2k",
        "outputId": "0060e0db-30b5-48af-fac4-9ee6d062dc24"
      },
      "execution_count": 9,
      "outputs": [
        {
          "output_type": "stream",
          "name": "stdout",
          "text": [
            "   calories  duration\n",
            "0       420        50\n",
            "2       390        45\n"
          ]
        }
      ]
    },
    {
      "cell_type": "code",
      "source": [
        "#adding index to dataframe\n",
        "df = pd.DataFrame(data, index = [\"day1\", \"day2\", \"day3\"])\n",
        "print(df)"
      ],
      "metadata": {
        "colab": {
          "base_uri": "https://localhost:8080/"
        },
        "id": "_NE6VYEnziR_",
        "outputId": "565957b1-92d0-4fe8-bb42-3414ae4609c3"
      },
      "execution_count": 10,
      "outputs": [
        {
          "output_type": "stream",
          "name": "stdout",
          "text": [
            "      calories  duration\n",
            "day1       420        50\n",
            "day2       380        40\n",
            "day3       390        45\n"
          ]
        }
      ]
    },
    {
      "cell_type": "markdown",
      "source": [
        "## Reading CSV Files\n",
        "\n"
      ],
      "metadata": {
        "id": "fKNiTd-zztLm"
      }
    },
    {
      "cell_type": "code",
      "source": [
        "# loading csv file into a Data Frame\n",
        "df = pd.read_csv('data.csv')\n",
        "\n",
        "print(df.to_string()) #use to_string to print entire DF"
      ],
      "metadata": {
        "colab": {
          "base_uri": "https://localhost:8080/"
        },
        "id": "T8a47bzSznJV",
        "outputId": "c58b1b67-71e6-4e67-90c8-5dbad7015532"
      },
      "execution_count": 12,
      "outputs": [
        {
          "output_type": "stream",
          "name": "stdout",
          "text": [
            "  Student  Height\n",
            "0       a       1\n",
            "1       b       2\n",
            "2       c       3\n",
            "3       d       4\n",
            "4       e       5\n"
          ]
        }
      ]
    },
    {
      "cell_type": "code",
      "source": [
        "#check your system maximum rows\n",
        "print(pd.options.display.max_rows)"
      ],
      "metadata": {
        "colab": {
          "base_uri": "https://localhost:8080/"
        },
        "id": "UaTNcHI03Vyk",
        "outputId": "4dcce73a-d9dd-4810-c871-2a7a4a30fa2d"
      },
      "execution_count": 13,
      "outputs": [
        {
          "output_type": "stream",
          "name": "stdout",
          "text": [
            "60\n"
          ]
        }
      ]
    },
    {
      "cell_type": "code",
      "source": [
        "#top 5 lines\n",
        "print(df.head())"
      ],
      "metadata": {
        "colab": {
          "base_uri": "https://localhost:8080/"
        },
        "id": "deNTXF7JtFeU",
        "outputId": "dc05a3b1-47f1-4a0b-af06-623f1e8aba2c"
      },
      "execution_count": 14,
      "outputs": [
        {
          "output_type": "stream",
          "name": "stdout",
          "text": [
            "  Student  Height\n",
            "0       a       1\n",
            "1       b       2\n",
            "2       c       3\n",
            "3       d       4\n",
            "4       e       5\n"
          ]
        }
      ]
    },
    {
      "cell_type": "code",
      "source": [
        "#last 5 lines\n",
        "print(df.tail())"
      ],
      "metadata": {
        "colab": {
          "base_uri": "https://localhost:8080/"
        },
        "id": "iC_3AjWNtYUF",
        "outputId": "6938b3d5-0fc4-4918-a3c3-43551f4df14f"
      },
      "execution_count": 15,
      "outputs": [
        {
          "output_type": "stream",
          "name": "stdout",
          "text": [
            "  Student  Height\n",
            "0       a       1\n",
            "1       b       2\n",
            "2       c       3\n",
            "3       d       4\n",
            "4       e       5\n"
          ]
        }
      ]
    },
    {
      "cell_type": "code",
      "source": [
        "#info about the data\n",
        "print(df.info())"
      ],
      "metadata": {
        "colab": {
          "base_uri": "https://localhost:8080/"
        },
        "id": "ObV-yxGUtcEV",
        "outputId": "5cadf3e7-af2f-4987-b373-f12da41871e9"
      },
      "execution_count": 16,
      "outputs": [
        {
          "output_type": "stream",
          "name": "stdout",
          "text": [
            "<class 'pandas.core.frame.DataFrame'>\n",
            "RangeIndex: 5 entries, 0 to 4\n",
            "Data columns (total 2 columns):\n",
            " #   Column   Non-Null Count  Dtype \n",
            "---  ------   --------------  ----- \n",
            " 0   Student  5 non-null      object\n",
            " 1   Height   5 non-null      int64 \n",
            "dtypes: int64(1), object(1)\n",
            "memory usage: 208.0+ bytes\n",
            "None\n"
          ]
        }
      ]
    }
  ]
}