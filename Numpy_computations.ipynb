{
  "nbformat": 4,
  "nbformat_minor": 0,
  "metadata": {
    "colab": {
      "provenance": [],
      "authorship_tag": "ABX9TyOSdcQ2UzrG5yCgJqfxA2iV"
    },
    "kernelspec": {
      "name": "python3",
      "display_name": "Python 3"
    },
    "language_info": {
      "name": "python"
    }
  },
  "cells": [
    {
      "cell_type": "markdown",
      "source": [
        "# Numerical Computation with Numpy"
      ],
      "metadata": {
        "id": "6z0ZVlKPs0g8"
      }
    },
    {
      "cell_type": "markdown",
      "source": [
        "## Working on numerical data"
      ],
      "metadata": {
        "id": "7DVVOr60wwU8"
      }
    },
    {
      "cell_type": "code",
      "source": [
        "import numpy as np"
      ],
      "metadata": {
        "id": "kNukR5QDu0xp"
      },
      "execution_count": 8,
      "outputs": []
    },
    {
      "cell_type": "code",
      "source": [
        "kanto = np.array([73, 67, 43])"
      ],
      "metadata": {
        "id": "0mEBHunLu9ZD"
      },
      "execution_count": 9,
      "outputs": []
    },
    {
      "cell_type": "code",
      "source": [
        "type(kanto)"
      ],
      "metadata": {
        "colab": {
          "base_uri": "https://localhost:8080/"
        },
        "id": "NaokUszAwbz5",
        "outputId": "1496e871-0117-4b1d-9dd4-68f72834d0c5"
      },
      "execution_count": 12,
      "outputs": [
        {
          "output_type": "execute_result",
          "data": {
            "text/plain": [
              "numpy.ndarray"
            ]
          },
          "metadata": {},
          "execution_count": 12
        }
      ]
    },
    {
      "cell_type": "code",
      "source": [
        "weights = np.array([0.1, 0.2, 0.5])"
      ],
      "metadata": {
        "id": "4MCkn0v8vAhP"
      },
      "execution_count": 10,
      "outputs": []
    },
    {
      "cell_type": "markdown",
      "source": [
        "## Numpy operations"
      ],
      "metadata": {
        "id": "Ho940HP4w3Nc"
      }
    },
    {
      "cell_type": "code",
      "source": [
        "np.dot(kanto, weights)"
      ],
      "metadata": {
        "colab": {
          "base_uri": "https://localhost:8080/"
        },
        "id": "qP72bmHXwgR6",
        "outputId": "68e587aa-aae7-4eee-d0c2-cb724f1c1a08"
      },
      "execution_count": 13,
      "outputs": [
        {
          "output_type": "execute_result",
          "data": {
            "text/plain": [
              "42.2"
            ]
          },
          "metadata": {},
          "execution_count": 13
        }
      ]
    },
    {
      "cell_type": "code",
      "source": [
        "kanto * weights"
      ],
      "metadata": {
        "colab": {
          "base_uri": "https://localhost:8080/"
        },
        "id": "AMJ-HckDxLsQ",
        "outputId": "bad94866-b05b-4bb9-c72e-eaaa31a66e2a"
      },
      "execution_count": 14,
      "outputs": [
        {
          "output_type": "execute_result",
          "data": {
            "text/plain": [
              "array([ 7.3, 13.4, 21.5])"
            ]
          },
          "metadata": {},
          "execution_count": 14
        }
      ]
    },
    {
      "cell_type": "code",
      "source": [
        "(kanto * weights).sum()"
      ],
      "metadata": {
        "colab": {
          "base_uri": "https://localhost:8080/"
        },
        "id": "kwc9XNrXxOvP",
        "outputId": "d02a2157-5ddc-4707-f444-4566748ca708"
      },
      "execution_count": 15,
      "outputs": [
        {
          "output_type": "execute_result",
          "data": {
            "text/plain": [
              "42.2"
            ]
          },
          "metadata": {},
          "execution_count": 15
        }
      ]
    },
    {
      "cell_type": "markdown",
      "source": [
        "## Numpy vs For loop comparision"
      ],
      "metadata": {
        "id": "7vBqL_tcyENl"
      }
    },
    {
      "cell_type": "code",
      "source": [
        "# Python lists\n",
        "arr1 = list(range(1000000))\n",
        "arr2 = list(range(1000000, 2000000))\n",
        "\n",
        "# Numpy arrays\n",
        "arr1_np = np.array(arr1)\n",
        "arr2_np = np.array(arr2)"
      ],
      "metadata": {
        "id": "2OLYkJNByIuN"
      },
      "execution_count": 16,
      "outputs": []
    },
    {
      "cell_type": "code",
      "source": [
        "%%time\n",
        "result = 0\n",
        "for x1, x2 in zip(arr1, arr2):\n",
        "    result += x1*x2\n",
        "result"
      ],
      "metadata": {
        "colab": {
          "base_uri": "https://localhost:8080/"
        },
        "id": "5hd6v5z4yOwo",
        "outputId": "5f58e48b-99a4-4335-87ba-085c6c8203eb"
      },
      "execution_count": 30,
      "outputs": [
        {
          "output_type": "stream",
          "name": "stdout",
          "text": [
            "CPU times: user 202 ms, sys: 0 ns, total: 202 ms\n",
            "Wall time: 201 ms\n"
          ]
        },
        {
          "output_type": "execute_result",
          "data": {
            "text/plain": [
              "833332333333500000"
            ]
          },
          "metadata": {},
          "execution_count": 30
        }
      ]
    },
    {
      "cell_type": "code",
      "source": [
        "%%time\n",
        "np.dot(arr1_np, arr2_np)"
      ],
      "metadata": {
        "colab": {
          "base_uri": "https://localhost:8080/"
        },
        "id": "LtEGilYKySTc",
        "outputId": "c30bc843-0ba9-4618-ac47-6b89f8061073"
      },
      "execution_count": 23,
      "outputs": [
        {
          "output_type": "stream",
          "name": "stdout",
          "text": [
            "CPU times: user 1.57 ms, sys: 1.03 ms, total: 2.6 ms\n",
            "Wall time: 2.62 ms\n"
          ]
        },
        {
          "output_type": "execute_result",
          "data": {
            "text/plain": [
              "833332333333500000"
            ]
          },
          "metadata": {},
          "execution_count": 23
        }
      ]
    }
  ]
}