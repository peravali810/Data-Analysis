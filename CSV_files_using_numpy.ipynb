{
  "nbformat": 4,
  "nbformat_minor": 0,
  "metadata": {
    "colab": {
      "provenance": [],
      "authorship_tag": "ABX9TyMISFe4jqzgdCtx4F4sEBj4"
    },
    "kernelspec": {
      "name": "python3",
      "display_name": "Python 3"
    },
    "language_info": {
      "name": "python"
    }
  },
  "cells": [
    {
      "cell_type": "markdown",
      "source": [
        "# Working with CSV files"
      ],
      "metadata": {
        "id": "0gecIU4Q2aG0"
      }
    },
    {
      "cell_type": "markdown",
      "source": [
        "## Extracting Data from CSV file"
      ],
      "metadata": {
        "id": "7FDqNUJ56_dD"
      }
    },
    {
      "cell_type": "code",
      "execution_count": 1,
      "metadata": {
        "id": "RaPNKMAh2QlN"
      },
      "outputs": [],
      "source": [
        "import numpy as np"
      ]
    },
    {
      "cell_type": "markdown",
      "source": [
        "Downloading a climate file containing climate measurements(temp, humi, rain)"
      ],
      "metadata": {
        "id": "JaHe3JGb3Cgd"
      }
    },
    {
      "cell_type": "code",
      "source": [
        "import urllib.request\n",
        "\n",
        "urllib.request.urlretrieve(\n",
        "    'https://gist.github.com/BirajCoder/a4ffcb76fd6fb221d76ac2ee2b8584e9/raw/4054f90adfd361b7aa4255e99c2e874664094cea/climate.csv',\n",
        "    'climate.txt')"
      ],
      "metadata": {
        "colab": {
          "base_uri": "https://localhost:8080/"
        },
        "id": "14Cy-uN9298E",
        "outputId": "fcd7f95e-b883-4436-d88d-d61bff8a1557"
      },
      "execution_count": 2,
      "outputs": [
        {
          "output_type": "execute_result",
          "data": {
            "text/plain": [
              "('climate.txt', <http.client.HTTPMessage at 0x7ad706002290>)"
            ]
          },
          "metadata": {},
          "execution_count": 2
        }
      ]
    },
    {
      "cell_type": "markdown",
      "source": [
        "Extract the data as numpy array"
      ],
      "metadata": {
        "id": "Q_Y_wisU33T7"
      }
    },
    {
      "cell_type": "code",
      "source": [
        "cl_data = np.genfromtxt('climate.txt', delimiter=',', skip_header=1)"
      ],
      "metadata": {
        "id": "DY9yyxrd3ACT"
      },
      "execution_count": 6,
      "outputs": []
    },
    {
      "cell_type": "markdown",
      "source": [
        "## Analysing the data"
      ],
      "metadata": {
        "id": "kuem2-Ht7GUJ"
      }
    },
    {
      "cell_type": "code",
      "source": [
        "cl_data"
      ],
      "metadata": {
        "colab": {
          "base_uri": "https://localhost:8080/"
        },
        "id": "HF6i615B4CF_",
        "outputId": "36e46b88-533b-4ac9-821d-159beecc26a3"
      },
      "execution_count": 7,
      "outputs": [
        {
          "output_type": "execute_result",
          "data": {
            "text/plain": [
              "array([[25., 76., 99.],\n",
              "       [39., 65., 70.],\n",
              "       [59., 45., 77.],\n",
              "       ...,\n",
              "       [99., 62., 58.],\n",
              "       [70., 71., 91.],\n",
              "       [92., 39., 76.]])"
            ]
          },
          "metadata": {},
          "execution_count": 7
        }
      ]
    },
    {
      "cell_type": "code",
      "source": [
        "cl_data.shape"
      ],
      "metadata": {
        "colab": {
          "base_uri": "https://localhost:8080/"
        },
        "id": "RV6oXoWJ4XjH",
        "outputId": "732bd6c7-bd18-4f06-ece3-85f95ae3a37a"
      },
      "execution_count": 9,
      "outputs": [
        {
          "output_type": "execute_result",
          "data": {
            "text/plain": [
              "(10000, 3)"
            ]
          },
          "metadata": {},
          "execution_count": 9
        }
      ]
    },
    {
      "cell_type": "code",
      "source": [
        "weight = np.array([0.1, 0.2, 0.3])"
      ],
      "metadata": {
        "id": "S3EoTnfF4ZPq"
      },
      "execution_count": 11,
      "outputs": []
    },
    {
      "cell_type": "code",
      "source": [
        "yield_data= cl_data @ weight"
      ],
      "metadata": {
        "id": "6aU-iPUi4qRu"
      },
      "execution_count": 12,
      "outputs": []
    },
    {
      "cell_type": "code",
      "source": [
        "yield_data"
      ],
      "metadata": {
        "colab": {
          "base_uri": "https://localhost:8080/"
        },
        "id": "CL_7LzDw48CP",
        "outputId": "925821ac-f21e-402d-95c6-3e2ebfa3a8c6"
      },
      "execution_count": 13,
      "outputs": [
        {
          "output_type": "execute_result",
          "data": {
            "text/plain": [
              "array([47.4, 37.9, 38. , ..., 39.7, 48.5, 39.8])"
            ]
          },
          "metadata": {},
          "execution_count": 13
        }
      ]
    },
    {
      "cell_type": "code",
      "source": [
        "yield_data.shape"
      ],
      "metadata": {
        "colab": {
          "base_uri": "https://localhost:8080/"
        },
        "id": "BBxGdTF449w8",
        "outputId": "0c235457-8076-41c5-d729-b0aee342ce57"
      },
      "execution_count": 14,
      "outputs": [
        {
          "output_type": "execute_result",
          "data": {
            "text/plain": [
              "(10000,)"
            ]
          },
          "metadata": {},
          "execution_count": 14
        }
      ]
    },
    {
      "cell_type": "code",
      "source": [
        "cl_result = np.concatenate((cl_data, yield_data.reshape(10000, 1)), axis=1)"
      ],
      "metadata": {
        "id": "KYRsyFO05ufP"
      },
      "execution_count": 16,
      "outputs": []
    },
    {
      "cell_type": "code",
      "source": [
        "cl_result"
      ],
      "metadata": {
        "colab": {
          "base_uri": "https://localhost:8080/"
        },
        "id": "8Sfjt1xh6i7Q",
        "outputId": "e7f50443-75a7-4f98-e783-25a6f5fa7578"
      },
      "execution_count": 17,
      "outputs": [
        {
          "output_type": "execute_result",
          "data": {
            "text/plain": [
              "array([[25. , 76. , 99. , 47.4],\n",
              "       [39. , 65. , 70. , 37.9],\n",
              "       [59. , 45. , 77. , 38. ],\n",
              "       ...,\n",
              "       [99. , 62. , 58. , 39.7],\n",
              "       [70. , 71. , 91. , 48.5],\n",
              "       [92. , 39. , 76. , 39.8]])"
            ]
          },
          "metadata": {},
          "execution_count": 17
        }
      ]
    },
    {
      "cell_type": "markdown",
      "source": [
        "## Saving back the data into a file"
      ],
      "metadata": {
        "id": "yeJbWrpv7J7Y"
      }
    },
    {
      "cell_type": "code",
      "source": [
        "np.savetxt('climate_results.txt',\n",
        "           cl_result,\n",
        "           fmt='%.2f',\n",
        "           delimiter=',',\n",
        "           header='temperature,rainfall,humidity,yeild_apples',\n",
        "           comments='')"
      ],
      "metadata": {
        "id": "rmzYaCIx69wn"
      },
      "execution_count": 24,
      "outputs": []
    }
  ]
}